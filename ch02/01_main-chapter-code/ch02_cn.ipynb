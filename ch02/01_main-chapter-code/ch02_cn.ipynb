{
    "cells": [
        {
            "cell_type": "markdown",
            "id": "d95f841a-63c9-41d4-aea1-496b3d2024dd",
            "metadata": {},
            "source": [
                "<table style=\"width:100%\">\n",
                "<tr>\n",
                "<td style=\"vertical-align:middle; text-align:left;\">\n",
                "<font size=\"2\">\n",
                "Supplementary code for the <a href=\"http://mng.bz/orYv\">Build a Large Language Model From Scratch</a> book by <a href=\"https://sebastianraschka.com\">Sebastian Raschka</a><br>\n",
                "<br>Code repository: <a href=\"https://github.com/rasbt/LLMs-from-scratch\">https://github.com/rasbt/LLMs-from-scratch</a>\n",
                "</font>\n",
                "</td>\n",
                "<td style=\"vertical-align:middle; text-align:left;\">\n",
                "<a href=\"http://mng.bz/orYv\"><img src=\"https://sebastianraschka.com/images/LLMs-from-scratch-images/cover-small.webp\" width=\"100px\"></a>\n",
                "</td>\n",
                "</tr>\n",
                "</table>\n"
            ]
        },
        {
            "cell_type": "markdown",
            "id": "25aa40e3-5109-433f-9153-f5770531fe94",
            "metadata": {},
            "source": [
                "# Chapter 2: 文本处理"
            ]
        },
        {
            "cell_type": "markdown",
            "id": "76d5d2c0-cba8-404e-9bf3-71a218cae3cf",
            "metadata": {},
            "source": [
                "Packages that are being used in this notebook:"
            ]
        },
        {
            "cell_type": "code",
            "execution_count": 2,
            "id": "4d1305cf-12d5-46fe-a2c9-36fb71c5b3d3",
            "metadata": {},
            "outputs": [
                {
                    "name": "stdout",
                    "output_type": "stream",
                    "text": [
                        "torch version: 2.6.0\n",
                        "tiktoken version: 0.9.0\n"
                    ]
                }
            ],
            "source": [
                "from importlib.metadata import version\n",
                "\n",
                "print(\"torch version:\", version(\"torch\"))\n",
                "print(\"tiktoken version:\", version(\"tiktoken\"))"
            ]
        },
        {
            "cell_type": "markdown",
            "id": "5a42fbfd-e3c2-43c2-bc12-f5f870a0b10a",
            "metadata": {},
            "source": [
                "- 本章涵盖数据准备和采样，以使输入数据\"准备好\"用于 LLM"
            ]
        },
        {
            "cell_type": "markdown",
            "id": "628b2922-594d-4ff9-bd82-04f1ebdf41f5",
            "metadata": {},
            "source": [
                "<img src=\"https://sebastianraschka.com/images/LLMs-from-scratch-images/ch02_compressed/01.webp?timestamp=1\" width=\"800px\">"
            ]
        },
        {
            "cell_type": "markdown",
            "id": "2417139b-2357-44d2-bd67-23f5d7f52ae7",
            "metadata": {},
            "source": [
                "## 2.1 理解词嵌入"
            ]
        },
        {
            "cell_type": "markdown",
            "id": "0b6816ae-e927-43a9-b4dd-e47a9b0e1cf6",
            "metadata": {},
            "source": [
                "- 本节不包含代码\n",
                "- 嵌入向量有很多形式；在本书中我们专注于文本嵌入"
            ]
        },
        {
            "cell_type": "markdown",
            "id": "ba08d16f-f237-4166-bf89-0e9fe703e7b4",
            "metadata": {},
            "source": [
                "<img src=\"https://sebastianraschka.com/images/LLMs-from-scratch-images/ch02_compressed/02.webp\" width=\"800px\">"
            ]
        },
        {
            "cell_type": "markdown",
            "id": "288c4faf-b93a-4616-9276-7a4aa4b5e9ba",
            "metadata": {},
            "source": [
                "- LLM 在高维空间中处理嵌入向量（即数千个维度）\n",
                "- 由于我们无法可视化这种高维空间（我们人类思考通常是1、2或3维的），下图展示了一个二维嵌入空间"
            ]
        },
        {
            "cell_type": "markdown",
            "id": "d6b80160-1f10-4aad-a85e-9c79444de9e6",
            "metadata": {},
            "source": [
                "<img src=\"https://sebastianraschka.com/images/LLMs-from-scratch-images/ch02_compressed/03.webp\" width=\"600px\">"
            ]
        },
        {
            "cell_type": "markdown",
            "id": "eddbb984-8d23-40c5-bbfa-c3c379e7eec3",
            "metadata": {},
            "source": [
                "## 2.2 文本分词"
            ]
        },
        {
            "cell_type": "markdown",
            "id": "f9c90731-7dc9-4cd3-8c4a-488e33b48e80",
            "metadata": {},
            "source": [
                "- 在本节中，我们将对文本进行分词，这意味着将文本分解成更小的单元，例如单个单词和标点符号"
            ]
        },
        {
            "cell_type": "markdown",
            "id": "09872fdb-9d4e-40c4-949d-52a01a43ec4b",
            "metadata": {},
            "source": [
                "<img src=\"https://sebastianraschka.com/images/LLMs-from-scratch-images/ch02_compressed/04.webp\" width=\"600px\">"
            ]
        },
        {
            "cell_type": "markdown",
            "id": "8cceaa18-833d-46b6-b211-b20c53902805",
            "metadata": {},
            "source": [
                "- 加载我们想要处理的原始文本\n",
                "- [The Verdict by Edith Wharton](https://en.wikisource.org/wiki/The_Verdict) 是一个公共领域的短篇故事"
            ]
        },
        {
            "cell_type": "code",
            "execution_count": 3,
            "id": "40f9d9b1-6d32-485a-825a-a95392a86d79",
            "metadata": {},
            "outputs": [],
            "source": [
                "import os\n",
                "import urllib.request\n",
                "\n",
                "if not os.path.exists(\"the-verdict.txt\"):\n",
                "    url = (\"https://raw.githubusercontent.com/rasbt/\"\n",
                "           \"LLMs-from-scratch/main/ch02/01_main-chapter-code/\"\n",
                "           \"the-verdict.txt\")\n",
                "    file_path = \"the-verdict.txt\"\n",
                "    urllib.request.urlretrieve(url, file_path)"
            ]
        },
        {
            "cell_type": "markdown",
            "id": "56488f2c-a2b8-49f1-aaeb-461faad08dce",
            "metadata": {},
            "source": [
                "- （如果执行上一个代码单元时遇到 `ssl.SSLCertVerificationError`，可能是因为使用了过时的 Python 版本；你可以在 [GitHub 上找到更多信息](https://github.com/rasbt/LLMs-from-scratch/pull/403)）"
            ]
        },
        {
            "cell_type": "code",
            "execution_count": 4,
            "id": "8a769e87-470a-48b9-8bdb-12841b416198",
            "metadata": {},
            "outputs": [
                {
                    "name": "stdout",
                    "output_type": "stream",
                    "text": [
                        "Total number of character: 20479\n",
                        "I HAD always thought Jack Gisburn rather a cheap genius--though a good fellow enough--so it was no \n"
                    ]
                }
            ],
            "source": [
                "with open(\"the-verdict.txt\", \"r\", encoding=\"utf-8\") as f:\n",
                "    raw_text = f.read()\n",
                "    \n",
                "print(\"Total number of character:\", len(raw_text))\n",
                "print(raw_text[:99])"
            ]
        },
        {
            "cell_type": "markdown",
            "id": "9b971a46-ac03-4368-88ae-3f20279e8f4e",
            "metadata": {},
            "source": [
                "- 目标是对这段文本进行分词并嵌入，以供 LLM 使用\n",
                "- 让我们基于一些简单的样本文本开发一个简单的分词器，然后可以将其应用于上面的文本\n",
                "- 以下正则表达式将按空格进行分割"
            ]
        },
        {
            "cell_type": "code",
            "execution_count": 5,
            "id": "737dd5b0-9dbb-4a97-9ae4-3482c8c04be7",
            "metadata": {},
            "outputs": [
                {
                    "name": "stdout",
                    "output_type": "stream",
                    "text": [
                        "['Hello,', ' ', 'world.', ' ', 'This,', ' ', 'is', ' ', 'a', ' ', 'test.']\n"
                    ]
                }
            ],
            "source": [
                "import re\n",
                "\n",
                "text = \"Hello, world. This, is a test.\"\n",
                "result = re.split(r'(\\s)', text)\n",
                "\n",
                "print(result)"
            ]
        },
        {
            "cell_type": "markdown",
            "id": "a8c40c18-a9d5-4703-bf71-8261dbcc5ee3",
            "metadata": {},
            "source": [
                "- 我们不仅想按空格分割，还想按逗号和句号分割，所以让我们修改正则表达式来实现这一点"
            ]
        },
        {
            "cell_type": "code",
            "execution_count": 6,
            "id": "ea02489d-01f9-4247-b7dd-a0d63f62ef07",
            "metadata": {},
            "outputs": [
                {
                    "name": "stdout",
                    "output_type": "stream",
                    "text": [
                        "['Hello', ',', '', ' ', 'world', '.', '', ' ', 'This', ',', '', ' ', 'is', ' ', 'a', ' ', 'test', '.', '']\n"
                    ]
                }
            ],
            "source": [
                "result = re.split(r'([,.]|\\s)', text)\n",
                "\n",
                "print(result)"
            ]
        },
        {
            "cell_type": "markdown",
            "id": "461d0c86-e3af-4f87-8fae-594a9ca9b6ad",
            "metadata": {},
            "source": [
                "- 正如我们所见，这会创建空字符串，让我们将它们移除"
            ]
        },
        {
            "cell_type": "code",
            "execution_count": 7,
            "id": "4d8a6fb7-2e62-4a12-ad06-ccb04f25fed7",
            "metadata": {},
            "outputs": [
                {
                    "name": "stdout",
                    "output_type": "stream",
                    "text": [
                        "['Hello', ',', 'world', '.', 'This', ',', 'is', 'a', 'test', '.']\n"
                    ]
                }
            ],
            "source": [
                "# Strip whitespace from each item and then filter out any empty strings.\n",
                "result = [item for item in result if item.strip()]\n",
                "print(result)"
            ]
        },
        {
            "cell_type": "markdown",
            "id": "250e8694-181e-496f-895d-7cb7d92b5562",
            "metadata": {},
            "source": [
                "- 这看起来不错，但让我们也处理其他类型的标点符号，比如句号、问号等等"
            ]
        },
        {
            "cell_type": "code",
            "execution_count": 8,
            "id": "ed3a9467-04b4-49d9-96c5-b8042bcf8374",
            "metadata": {},
            "outputs": [
                {
                    "name": "stdout",
                    "output_type": "stream",
                    "text": [
                        "['Hello', ',', 'world', '.', 'Is', 'this', '--', 'a', 'test', '?']\n"
                    ]
                }
            ],
            "source": [
                "text = \"Hello, world. Is this-- a test?\"\n",
                "\n",
                "result = re.split(r'([,.:;?_!\"()\\']|--|\\s)', text)\n",
                "result = [item.strip() for item in result if item.strip()]\n",
                "print(result)"
            ]
        },
        {
            "cell_type": "markdown",
            "id": "5bbea70b-c030-45d9-b09d-4318164c0bb4",
            "metadata": {},
            "source": [
                "- 这已经很不错了，我们现在可以将这种分词方法应用到原始文本中。"
            ]
        },
        {
            "cell_type": "markdown",
            "id": "6cbe9330-b587-4262-be9f-497a84ec0e8a",
            "metadata": {},
            "source": [
                "<img src=\"https://sebastianraschka.com/images/LLMs-from-scratch-images/ch02_compressed/05.webp\" width=\"700px\">"
            ]
        },
        {
            "cell_type": "code",
            "execution_count": 9,
            "id": "8c567caa-8ff5-49a8-a5cc-d365b0a78a99",
            "metadata": {},
            "outputs": [
                {
                    "name": "stdout",
                    "output_type": "stream",
                    "text": [
                        "['I', 'HAD', 'always', 'thought', 'Jack', 'Gisburn', 'rather', 'a', 'cheap', 'genius', '--', 'though', 'a', 'good', 'fellow', 'enough', '--', 'so', 'it', 'was', 'no', 'great', 'surprise', 'to', 'me', 'to', 'hear', 'that', ',', 'in']\n"
                    ]
                }
            ],
            "source": [
                "preprocessed = re.split(r'([,.:;?_!\"()\\']|--|\\s)', raw_text)\n",
                "preprocessed = [item.strip() for item in preprocessed if item.strip()]\n",
                "print(preprocessed[:30])"
            ]
        },
        {
            "cell_type": "markdown",
            "id": "e2a19e1a-5105-4ddb-812a-b7d3117eab95",
            "metadata": {},
            "source": [
                "- 让我们计算一下标记的总数。"
            ]
        },
        {
            "cell_type": "code",
            "execution_count": 10,
            "id": "35db7b5e-510b-4c45-995f-f5ad64a8e19c",
            "metadata": {},
            "outputs": [
                {
                    "name": "stdout",
                    "output_type": "stream",
                    "text": [
                        "4690\n"
                    ]
                }
            ],
            "source": [
                "print(len(preprocessed))"
            ]
        },
        {
            "cell_type": "markdown",
            "id": "0b5ce8fe-3a07-4f2a-90f1-a0321ce3a231",
            "metadata": {},
            "source": [
                "## 2.3 将标记转换为标记 ID"
            ]
        },
        {
            "cell_type": "markdown",
            "id": "a5204973-f414-4c0d-87b0-cfec1f06e6ff",
            "metadata": {},
            "source": [
                "- 接下来，我们将文本标记转换为标记 ID，以便稍后通过嵌入层进行处理。"
            ]
        },
        {
            "cell_type": "markdown",
            "id": "177b041d-f739-43b8-bd81-0443ae3a7f8d",
            "metadata": {},
            "source": [
                "<img src=\"https://sebastianraschka.com/images/LLMs-from-scratch-images/ch02_compressed/06.webp\" width=\"700px\">"
            ]
        },
        {
            "cell_type": "markdown",
            "id": "b5973794-7002-4202-8b12-0900cd779720",
            "metadata": {},
            "source": [
                "- 从这些标记中，我们现在可以构建一个包含所有唯一标记的词汇表。"
            ]
        },
        {
            "cell_type": "code",
            "execution_count": 11,
            "id": "7fdf0533-5ab6-42a5-83fa-a3b045de6396",
            "metadata": {},
            "outputs": [
                {
                    "name": "stdout",
                    "output_type": "stream",
                    "text": [
                        "1130\n"
                    ]
                }
            ],
            "source": [
                "all_words = sorted(set(preprocessed))\n",
                "vocab_size = len(all_words)\n",
                "\n",
                "print(vocab_size)"
            ]
        },
        {
            "cell_type": "code",
            "execution_count": 12,
            "id": "77d00d96-881f-4691-bb03-84fec2a75a26",
            "metadata": {},
            "outputs": [],
            "source": [
                "vocab = {token:integer for integer,token in enumerate(all_words)}"
            ]
        },
        {
            "cell_type": "markdown",
            "id": "75bd1f81-3a8f-4dd9-9dd6-e75f32dacbe3",
            "metadata": {},
            "source": [
                "- 以下是该词汇表中的前 50 个条目："
            ]
        },
        {
            "cell_type": "code",
            "execution_count": 13,
            "id": "e1c5de4a-aa4e-4aec-b532-10bb364039d6",
            "metadata": {},
            "outputs": [
                {
                    "name": "stdout",
                    "output_type": "stream",
                    "text": [
                        "('!', 0)\n",
                        "('\"', 1)\n",
                        "(\"'\", 2)\n",
                        "('(', 3)\n",
                        "(')', 4)\n",
                        "(',', 5)\n",
                        "('--', 6)\n",
                        "('.', 7)\n",
                        "(':', 8)\n",
                        "(';', 9)\n",
                        "('?', 10)\n",
                        "('A', 11)\n",
                        "('Ah', 12)\n",
                        "('Among', 13)\n",
                        "('And', 14)\n",
                        "('Are', 15)\n",
                        "('Arrt', 16)\n",
                        "('As', 17)\n",
                        "('At', 18)\n",
                        "('Be', 19)\n",
                        "('Begin', 20)\n",
                        "('Burlington', 21)\n",
                        "('But', 22)\n",
                        "('By', 23)\n",
                        "('Carlo', 24)\n",
                        "('Chicago', 25)\n",
                        "('Claude', 26)\n",
                        "('Come', 27)\n",
                        "('Croft', 28)\n",
                        "('Destroyed', 29)\n",
                        "('Devonshire', 30)\n",
                        "('Don', 31)\n",
                        "('Dubarry', 32)\n",
                        "('Emperors', 33)\n",
                        "('Florence', 34)\n",
                        "('For', 35)\n",
                        "('Gallery', 36)\n",
                        "('Gideon', 37)\n",
                        "('Gisburn', 38)\n",
                        "('Gisburns', 39)\n",
                        "('Grafton', 40)\n",
                        "('Greek', 41)\n",
                        "('Grindle', 42)\n",
                        "('Grindles', 43)\n",
                        "('HAD', 44)\n",
                        "('Had', 45)\n",
                        "('Hang', 46)\n",
                        "('Has', 47)\n",
                        "('He', 48)\n",
                        "('Her', 49)\n",
                        "('Hermia', 50)\n"
                    ]
                }
            ],
            "source": [
                "for i, item in enumerate(vocab.items()):\n",
                "    print(item)\n",
                "    if i >= 50:\n",
                "        break"
            ]
        },
        {
            "cell_type": "markdown",
            "id": "3b1dc314-351b-476a-9459-0ec9ddc29b19",
            "metadata": {},
            "source": [
                "- 下面，我们使用一个小词汇表来展示一个简短示例文本的分词过程："
            ]
        },
        {
            "cell_type": "markdown",
            "id": "67407a9f-0202-4e7c-9ed7-1b3154191ebc",
            "metadata": {},
            "source": [
                "<img src=\"https://sebastianraschka.com/images/LLMs-from-scratch-images/ch02_compressed/07.webp?123\" width=\"700px\">"
            ]
        },
        {
            "cell_type": "markdown",
            "id": "4e569647-2589-4c9d-9a5c-aef1c88a0a9a",
            "metadata": {},
            "source": [
                "- 现在将其全部整合到一个分词器类中"
            ]
        },
        {
            "cell_type": "code",
            "execution_count": 19,
            "id": "f531bf46-7c25-4ef8-bff8-0d27518676d5",
            "metadata": {},
            "outputs": [],
            "source": [
                "import re  # 引入正则表达式模块，用于字符串处理\n",
                "\n",
                "class SimpleTokenizerV1:\n",
                "    # 初始化函数，接收一个词汇表（vocab）作为输入\n",
                "    def __init__(self, vocab):\n",
                "        # 将词汇表保存为一个从字符串到整数的字典（映射）\n",
                "        self.str_to_int = vocab\n",
                "        # 创建一个从整数到字符串的反向映射字典\n",
                "        self.int_to_str = {i: s for s, i in vocab.items()}\n",
                "    \n",
                "    # 编码函数：将输入的文本转换为对应的整数 ID 序列\n",
                "    def encode(self, text):\n",
                "        # 使用正则表达式对文本进行分词\n",
                "        # 分隔符包括标点符号（如 , . : ; ? _ ! \" ' 等）、双连字符（--）以及空白字符（\\s）\n",
                "        preprocessed = re.split(r'([,.:;?_!\"()\\']|--|\\s)', text)\n",
                "        \n",
                "        # 移除分词结果中的空字符串，并去掉每个分词项的首尾空格\n",
                "        preprocessed = [\n",
                "            item.strip() for item in preprocessed if item.strip()\n",
                "        ]\n",
                "        \n",
                "        # 将分词结果转换为对应的整数 ID 序列\n",
                "        # 如果词汇表中没有找到某个分词项，会抛出 KeyError 异常\n",
                "        ids = [self.str_to_int[s] for s in preprocessed]\n",
                "        return ids\n",
                "        \n",
                "    # 解码函数：将整数 ID 序列转换回原始文本\n",
                "    def decode(self, ids):\n",
                "        # 根据整数 ID 序列查找对应的字符串，并用空格拼接成文本\n",
                "        text = \" \".join([self.int_to_str[i] for i in ids])\n",
                "        \n",
                "        # 使用正则表达式修复文本中的空格问题\n",
                "        # 将标点符号（如 , . ? ! \" ' 等）前面的多余空格移除\n",
                "        text = re.sub(r'\\s+([,.?!\"()\\'])', r'\\1', text)\n",
                "        return text\n"
            ]
        },
        {
            "cell_type": "markdown",
            "id": "dee7a1e5-b54f-4ca1-87ef-3d663c4ee1e7",
            "metadata": {},
            "source": [
                "- `encode` 函数将文本转换为标记 ID  \n",
                "- `decode` 函数将标记 ID 转换回文本"
            ]
        },
        {
            "cell_type": "markdown",
            "id": "cc21d347-ec03-4823-b3d4-9d686e495617",
            "metadata": {},
            "source": [
                "<img src=\"https://sebastianraschka.com/images/LLMs-from-scratch-images/ch02_compressed/08.webp?123\" width=\"800px\">"
            ]
        },
        {
            "cell_type": "markdown",
            "id": "c2950a94-6b0d-474e-8ed0-66d0c3c1a95c",
            "metadata": {},
            "source": [
                "- 我们可以使用分词器将文本编码（即分词）为整数  \n",
                "- 这些整数随后可以作为嵌入（稍后）以用作 LLM 的输入"
            ]
        },
        {
            "cell_type": "code",
            "execution_count": 15,
            "id": "647364ec-7995-4654-9b4a-7607ccf5f1e4",
            "metadata": {},
            "outputs": [
                {
                    "name": "stdout",
                    "output_type": "stream",
                    "text": [
                        "[1, 56, 2, 850, 988, 602, 533, 746, 5, 1126, 596, 5, 1, 67, 7, 38, 851, 1108, 754, 793, 7]\n"
                    ]
                }
            ],
            "source": [
                "tokenizer = SimpleTokenizerV1(vocab)\n",
                "\n",
                "text = \"\"\"\"It's the last he painted, you know,\" \n",
                "           Mrs. Gisburn said with pardonable pride.\"\"\"\n",
                "ids = tokenizer.encode(text)\n",
                "print(ids)"
            ]
        },
        {
            "cell_type": "markdown",
            "id": "8fa48c6d",
            "metadata": {},
            "source": [
                "此时如果我们输入的词里面有 vocab 里面没有记录的，它会报错"
            ]
        },
        {
            "cell_type": "code",
            "execution_count": 16,
            "id": "574212eb",
            "metadata": {},
            "outputs": [
                {
                    "ename": "KeyError",
                    "evalue": "'Bowei'",
                    "output_type": "error",
                    "traceback": [
                        "\u001b[0;31m---------------------------------------------------------------------------\u001b[0m",
                        "\u001b[0;31mKeyError\u001b[0m                                  Traceback (most recent call last)",
                        "Cell \u001b[0;32mIn[16], line 2\u001b[0m\n\u001b[1;32m      1\u001b[0m input_text \u001b[38;5;241m=\u001b[39m \u001b[38;5;124m\"\u001b[39m\u001b[38;5;124mWhat if you don\u001b[39m\u001b[38;5;124m'\u001b[39m\u001b[38;5;124mt know Bowei?\u001b[39m\u001b[38;5;124m\"\u001b[39m\n\u001b[0;32m----> 2\u001b[0m input_token \u001b[38;5;241m=\u001b[39m \u001b[43mtokenizer\u001b[49m\u001b[38;5;241;43m.\u001b[39;49m\u001b[43mencode\u001b[49m\u001b[43m(\u001b[49m\u001b[43minput_text\u001b[49m\u001b[43m)\u001b[49m\n\u001b[1;32m      3\u001b[0m \u001b[38;5;28mprint\u001b[39m(input_token)\n",
                        "Cell \u001b[0;32mIn[14], line 12\u001b[0m, in \u001b[0;36mSimpleTokenizerV1.encode\u001b[0;34m(self, text)\u001b[0m\n\u001b[1;32m      7\u001b[0m preprocessed \u001b[38;5;241m=\u001b[39m re\u001b[38;5;241m.\u001b[39msplit(\u001b[38;5;124mr\u001b[39m\u001b[38;5;124m'\u001b[39m\u001b[38;5;124m([,.:;?_!\u001b[39m\u001b[38;5;124m\"\u001b[39m\u001b[38;5;124m()\u001b[39m\u001b[38;5;130;01m\\'\u001b[39;00m\u001b[38;5;124m]|--|\u001b[39m\u001b[38;5;124m\\\u001b[39m\u001b[38;5;124ms)\u001b[39m\u001b[38;5;124m'\u001b[39m, text)\n\u001b[1;32m      9\u001b[0m preprocessed \u001b[38;5;241m=\u001b[39m [\n\u001b[1;32m     10\u001b[0m     item\u001b[38;5;241m.\u001b[39mstrip() \u001b[38;5;28;01mfor\u001b[39;00m item \u001b[38;5;129;01min\u001b[39;00m preprocessed \u001b[38;5;28;01mif\u001b[39;00m item\u001b[38;5;241m.\u001b[39mstrip()\n\u001b[1;32m     11\u001b[0m ]\n\u001b[0;32m---> 12\u001b[0m ids \u001b[38;5;241m=\u001b[39m [\u001b[38;5;28;43mself\u001b[39;49m\u001b[38;5;241;43m.\u001b[39;49m\u001b[43mstr_to_int\u001b[49m\u001b[43m[\u001b[49m\u001b[43ms\u001b[49m\u001b[43m]\u001b[49m \u001b[38;5;28;01mfor\u001b[39;00m s \u001b[38;5;129;01min\u001b[39;00m preprocessed]\n\u001b[1;32m     13\u001b[0m \u001b[38;5;28;01mreturn\u001b[39;00m ids\n",
                        "\u001b[0;31mKeyError\u001b[0m: 'Bowei'"
                    ]
                }
            ],
            "source": [
                "input_text = \"What if you don't know Bowei?\"\n",
                "input_token = tokenizer.encode(input_text)\n",
                "print(input_token)"
            ]
        },
        {
            "cell_type": "markdown",
            "id": "3201706e-a487-4b60-b99d-5765865f29a0",
            "metadata": {},
            "source": [
                "- 我们可以将整数解码回文本"
            ]
        },
        {
            "cell_type": "code",
            "execution_count": 17,
            "id": "01d8c8fb-432d-4a49-b332-99f23b233746",
            "metadata": {},
            "outputs": [
                {
                    "data": {
                        "text/plain": [
                            "'\" It\\' s the last he painted, you know,\" Mrs. Gisburn said with pardonable pride.'"
                        ]
                    },
                    "execution_count": 17,
                    "metadata": {},
                    "output_type": "execute_result"
                }
            ],
            "source": [
                "tokenizer.decode(ids)"
            ]
        },
        {
            "cell_type": "code",
            "execution_count": 18,
            "id": "54f6aa8b-9827-412e-9035-e827296ab0fe",
            "metadata": {},
            "outputs": [
                {
                    "data": {
                        "text/plain": [
                            "'\" It\\' s the last he painted, you know,\" Mrs. Gisburn said with pardonable pride.'"
                        ]
                    },
                    "execution_count": 18,
                    "metadata": {},
                    "output_type": "execute_result"
                }
            ],
            "source": [
                "tokenizer.decode(tokenizer.encode(text))"
            ]
        },
        {
            "cell_type": "markdown",
            "id": "4b821ef8-4d53-43b6-a2b2-aef808c343c7",
            "metadata": {},
            "source": [
                "## 2.4 添加特殊上下文标记"
            ]
        },
        {
            "cell_type": "markdown",
            "id": "863d6d15-a3e2-44e0-b384-bb37f17cf443",
            "metadata": {},
            "source": [
                "- 添加一些用于未知单词和表示文本结尾的“特殊”标记很有用"
            ]
        },
        {
            "cell_type": "markdown",
            "id": "aa7fc96c-e1fd-44fb-b7f5-229d7c7922a4",
            "metadata": {},
            "source": [
                "<img src=\"https://sebastianraschka.com/images/LLMs-from-scratch-images/ch02_compressed/09.webp?123\" width=\"800px\">"
            ]
        },
        {
            "cell_type": "markdown",
            "id": "9d709d57-2486-4152-b7f9-d3e4bd8634cd",
            "metadata": {},
            "source": [
                "- 添加一些“特殊”标记对于表示未知单词和文本结尾很有帮助  \n",
                "- 一些分词器使用特殊标记为 LLM 提供额外的上下文信息  \n",
                "- 这些特殊标记包括：  \n",
                "  - `[BOS]`（序列开头）标记文本的起始位置  \n",
                "  - `[EOS]`（序列结尾）标记文本的结束位置（通常用于连接多个不相关的文本，例如两篇不同的维基百科文章或两本不同的书等）  \n",
                "  - `[PAD]`（填充）当我们以大于 1 的批量大小训练 LLM 时（可能会包含长度不同的多个文本；通过填充标记将较短的文本填充到与最长文本相同的长度，从而使所有文本长度一致）  \n",
                "- `[UNK]` 表示词汇表中未包含的单词  \n",
                "\n",
                "- 需要注意的是，GPT-2 不需要上述提到的任何标记，而仅使用一个 `\"<|endoftext|>\"` 标记来降低复杂性  \n",
                "- `\"<|endoftext|>\"` 类似于上述提到的 `[EOS]` 标记  \n",
                "- GPT 也使用 `\"<|endoftext|>\"` 进行填充（因为在对批量输入进行训练时，我们通常会使用掩码，不会关注填充的标记，因此这些标记是什么并不重要）  \n",
                "- GPT-2 不使用 `<UNK>` 标记来表示词汇表外的单词；相反，GPT-2 使用字节对编码（BPE）分词器，它将单词分解为子词单元，我们将在后面的部分讨论这一点。"
            ]
        },
        {
            "cell_type": "markdown",
            "id": "a336b43b-7173-49e7-bd80-527ad4efb271",
            "metadata": {},
            "source": [
                "- 我们在两个独立的文本来源之间使用 `\"<|endoftext|>\"` 标记："
            ]
        },
        {
            "cell_type": "markdown",
            "id": "52442951-752c-4855-9752-b121a17fef55",
            "metadata": {},
            "source": [
                "<img src=\"https://sebastianraschka.com/images/LLMs-from-scratch-images/ch02_compressed/10.webp\" width=\"800px\">"
            ]
        },
        {
            "cell_type": "markdown",
            "id": "c661a397-da06-4a86-ac27-072dbe7cb172",
            "metadata": {},
            "source": [
                "- 让我们看看如果对以下文本进行分词会发生什么："
            ]
        },
        {
            "cell_type": "code",
            "execution_count": 16,
            "id": "d5767eff-440c-4de1-9289-f789349d6b85",
            "metadata": {},
            "outputs": [
                {
                    "ename": "KeyError",
                    "evalue": "'Hello'",
                    "output_type": "error",
                    "traceback": [
                        "\u001b[0;31m---------------------------------------------------------------------------\u001b[0m",
                        "\u001b[0;31mKeyError\u001b[0m                                  Traceback (most recent call last)",
                        "Cell \u001b[0;32mIn[16], line 5\u001b[0m\n\u001b[1;32m      1\u001b[0m tokenizer \u001b[38;5;241m=\u001b[39m SimpleTokenizerV1(vocab)\n\u001b[1;32m      3\u001b[0m text \u001b[38;5;241m=\u001b[39m \u001b[38;5;124m\"\u001b[39m\u001b[38;5;124mHello, do you like tea. Is this-- a test?\u001b[39m\u001b[38;5;124m\"\u001b[39m\n\u001b[0;32m----> 5\u001b[0m \u001b[43mtokenizer\u001b[49m\u001b[38;5;241;43m.\u001b[39;49m\u001b[43mencode\u001b[49m\u001b[43m(\u001b[49m\u001b[43mtext\u001b[49m\u001b[43m)\u001b[49m\n",
                        "Cell \u001b[0;32mIn[13], line 12\u001b[0m, in \u001b[0;36mSimpleTokenizerV1.encode\u001b[0;34m(self, text)\u001b[0m\n\u001b[1;32m      7\u001b[0m preprocessed \u001b[38;5;241m=\u001b[39m re\u001b[38;5;241m.\u001b[39msplit(\u001b[38;5;124mr\u001b[39m\u001b[38;5;124m'\u001b[39m\u001b[38;5;124m([,.:;?_!\u001b[39m\u001b[38;5;124m\"\u001b[39m\u001b[38;5;124m()\u001b[39m\u001b[38;5;130;01m\\'\u001b[39;00m\u001b[38;5;124m]|--|\u001b[39m\u001b[38;5;124m\\\u001b[39m\u001b[38;5;124ms)\u001b[39m\u001b[38;5;124m'\u001b[39m, text)\n\u001b[1;32m      9\u001b[0m preprocessed \u001b[38;5;241m=\u001b[39m [\n\u001b[1;32m     10\u001b[0m     item\u001b[38;5;241m.\u001b[39mstrip() \u001b[38;5;28;01mfor\u001b[39;00m item \u001b[38;5;129;01min\u001b[39;00m preprocessed \u001b[38;5;28;01mif\u001b[39;00m item\u001b[38;5;241m.\u001b[39mstrip()\n\u001b[1;32m     11\u001b[0m ]\n\u001b[0;32m---> 12\u001b[0m ids \u001b[38;5;241m=\u001b[39m [\u001b[38;5;28mself\u001b[39m\u001b[38;5;241m.\u001b[39mstr_to_int[s] \u001b[38;5;28;01mfor\u001b[39;00m s \u001b[38;5;129;01min\u001b[39;00m preprocessed]\n\u001b[1;32m     13\u001b[0m \u001b[38;5;28;01mreturn\u001b[39;00m ids\n",
                        "Cell \u001b[0;32mIn[13], line 12\u001b[0m, in \u001b[0;36m<listcomp>\u001b[0;34m(.0)\u001b[0m\n\u001b[1;32m      7\u001b[0m preprocessed \u001b[38;5;241m=\u001b[39m re\u001b[38;5;241m.\u001b[39msplit(\u001b[38;5;124mr\u001b[39m\u001b[38;5;124m'\u001b[39m\u001b[38;5;124m([,.:;?_!\u001b[39m\u001b[38;5;124m\"\u001b[39m\u001b[38;5;124m()\u001b[39m\u001b[38;5;130;01m\\'\u001b[39;00m\u001b[38;5;124m]|--|\u001b[39m\u001b[38;5;124m\\\u001b[39m\u001b[38;5;124ms)\u001b[39m\u001b[38;5;124m'\u001b[39m, text)\n\u001b[1;32m      9\u001b[0m preprocessed \u001b[38;5;241m=\u001b[39m [\n\u001b[1;32m     10\u001b[0m     item\u001b[38;5;241m.\u001b[39mstrip() \u001b[38;5;28;01mfor\u001b[39;00m item \u001b[38;5;129;01min\u001b[39;00m preprocessed \u001b[38;5;28;01mif\u001b[39;00m item\u001b[38;5;241m.\u001b[39mstrip()\n\u001b[1;32m     11\u001b[0m ]\n\u001b[0;32m---> 12\u001b[0m ids \u001b[38;5;241m=\u001b[39m [\u001b[38;5;28;43mself\u001b[39;49m\u001b[38;5;241;43m.\u001b[39;49m\u001b[43mstr_to_int\u001b[49m\u001b[43m[\u001b[49m\u001b[43ms\u001b[49m\u001b[43m]\u001b[49m \u001b[38;5;28;01mfor\u001b[39;00m s \u001b[38;5;129;01min\u001b[39;00m preprocessed]\n\u001b[1;32m     13\u001b[0m \u001b[38;5;28;01mreturn\u001b[39;00m ids\n",
                        "\u001b[0;31mKeyError\u001b[0m: 'Hello'"
                    ]
                }
            ],
            "source": [
                "tokenizer = SimpleTokenizerV1(vocab)\n",
                "\n",
                "text = \"Hello, do you like tea. Is this-- a test?\"\n",
                "\n",
                "tokenizer.encode(text)"
            ]
        },
        {
            "cell_type": "markdown",
            "id": "dc53ee0c-fe2b-4cd8-a946-5471f7651acf",
            "metadata": {},
            "source": [
                "- 上面的代码会产生错误，因为单词 \"Hello\" 不在词汇表中。  \n",
                "- 为了处理这种情况，我们可以在词汇表中添加像 `\"<|unk|>\"` 这样的特殊标记，以表示未知单词。  \n",
                "- 既然我们已经在扩展词汇表，那么让我们再添加另一个标记 `\"<|endoftext|>\"`，它在 GPT-2 训练中用于表示文本的结尾（同时也用于连接的文本之间，例如，如果我们的训练数据集包含多篇文章、书籍等）。"
            ]
        },
        {
            "cell_type": "code",
            "execution_count": 21,
            "id": "ce9df29c-6c5b-43f1-8c1a-c7f7b79db78f",
            "metadata": {},
            "outputs": [],
            "source": [
                "all_tokens = sorted(list(set(preprocessed)))\n",
                "all_tokens.extend([\"<|endoftext|>\", \"<|unk|>\"])\n",
                "\n",
                "vocab = {token:integer for integer,token in enumerate(all_tokens)}"
            ]
        },
        {
            "cell_type": "code",
            "execution_count": 22,
            "id": "57c3143b-e860-4d3b-a22a-de22b547a6a9",
            "metadata": {},
            "outputs": [
                {
                    "data": {
                        "text/plain": [
                            "1132"
                        ]
                    },
                    "execution_count": 22,
                    "metadata": {},
                    "output_type": "execute_result"
                }
            ],
            "source": [
                "len(vocab.items())"
            ]
        },
        {
            "cell_type": "code",
            "execution_count": 23,
            "id": "50e51bb1-ae05-4aa8-a9ff-455b65ed1959",
            "metadata": {},
            "outputs": [
                {
                    "name": "stdout",
                    "output_type": "stream",
                    "text": [
                        "('younger', 1127)\n",
                        "('your', 1128)\n",
                        "('yourself', 1129)\n",
                        "('<|endoftext|>', 1130)\n",
                        "('<|unk|>', 1131)\n"
                    ]
                }
            ],
            "source": [
                "for i, item in enumerate(list(vocab.items())[-5:]):\n",
                "    print(item)"
            ]
        },
        {
            "cell_type": "markdown",
            "id": "a1daa2b0-6e75-412b-ab53-1f6fb7b4d453",
            "metadata": {},
            "source": [
                "- 我们还需要相应地调整分词器，以便它知道何时以及如何使用新的 `<unk>` 标记。"
            ]
        },
        {
            "cell_type": "code",
            "execution_count": 25,
            "id": "948861c5-3f30-4712-a234-725f20d26f68",
            "metadata": {},
            "outputs": [],
            "source": [
                "class SimpleTokenizerV2:\n",
                "    def __init__(self, vocab):\n",
                "        self.str_to_int = vocab\n",
                "        self.int_to_str = { i:s for s,i in vocab.items()}\n",
                "    \n",
                "    def encode(self, text):\n",
                "        preprocessed = re.split(r'([,.:;?_!\"()\\']|--|\\s)', text)\n",
                "        preprocessed = [item.strip() for item in preprocessed if item.strip()]\n",
                "        preprocessed = [\n",
                "            item if item in self.str_to_int \n",
                "            else \"<|unk|>\" for item in preprocessed\n",
                "        ]\n",
                "\n",
                "        ids = [self.str_to_int[s] for s in preprocessed]\n",
                "        return ids\n",
                "        \n",
                "    def decode(self, ids):\n",
                "        text = \" \".join([self.int_to_str[i] for i in ids])\n",
                "        # Replace spaces before the specified punctuations\n",
                "        text = re.sub(r'\\s+([,.:;?!\"()\\'])', r'\\1', text)\n",
                "        return text"
            ]
        },
        {
            "cell_type": "markdown",
            "id": "aa728dd1-9d35-4ac7-938f-d411d73083f6",
            "metadata": {},
            "source": [
                "Let's try to tokenize text with the modified tokenizer:"
            ]
        },
        {
            "cell_type": "code",
            "execution_count": 26,
            "id": "4133c502-18ac-4412-9f43-01caf4efa3dc",
            "metadata": {},
            "outputs": [
                {
                    "name": "stdout",
                    "output_type": "stream",
                    "text": [
                        "Hello, do you like tea? <|endoftext|> In the sunlit terraces of the palace.\n"
                    ]
                }
            ],
            "source": [
                "tokenizer = SimpleTokenizerV2(vocab)\n",
                "\n",
                "text1 = \"Hello, do you like tea?\"\n",
                "text2 = \"In the sunlit terraces of the palace.\"\n",
                "\n",
                "text = \" <|endoftext|> \".join((text1, text2))\n",
                "\n",
                "print(text)"
            ]
        },
        {
            "cell_type": "code",
            "execution_count": 27,
            "id": "7ed395fe-dc1b-4ed2-b85b-457cc35aab60",
            "metadata": {},
            "outputs": [
                {
                    "data": {
                        "text/plain": [
                            "[1131, 5, 355, 1126, 628, 975, 10, 1130, 55, 988, 956, 984, 722, 988, 1131, 7]"
                        ]
                    },
                    "execution_count": 27,
                    "metadata": {},
                    "output_type": "execute_result"
                }
            ],
            "source": [
                "tokenizer.encode(text)"
            ]
        },
        {
            "cell_type": "code",
            "execution_count": 28,
            "id": "059367f9-7a60-4c0d-8a00-7c4c766d0ebc",
            "metadata": {},
            "outputs": [
                {
                    "data": {
                        "text/plain": [
                            "'<|unk|>, do you like tea? <|endoftext|> In the sunlit terraces of the <|unk|>.'"
                        ]
                    },
                    "execution_count": 28,
                    "metadata": {},
                    "output_type": "execute_result"
                }
            ],
            "source": [
                "tokenizer.decode(tokenizer.encode(text))"
            ]
        },
        {
            "cell_type": "markdown",
            "id": "5c4ba34b-170f-4e71-939b-77aabb776f14",
            "metadata": {},
            "source": [
                "## 2.5 字节对编码 (BytePair Encoding)"
            ]
        },
        {
            "cell_type": "markdown",
            "id": "2309494c-79cf-4a2d-bc28-a94d602f050e",
            "metadata": {},
            "source": [
                "- GPT-2 使用字节对编码 (BPE) 作为其分词器  \n",
                "- 它允许模型将不在其预定义词汇表中的单词分解为更小的子词单元，甚至是单个字符，从而能够处理词汇表外的单词  \n",
                "- 例如，如果 GPT-2 的词汇表中没有单词 \"unfamiliarword\"，它可能会将其分词为 [\"unfam\", \"iliar\", \"word\"] 或其他子词分解形式，具体取决于其训练的 BPE 合并规则  \n",
                "- 原始的 BPE 分词器可以在这里找到：[https://github.com/openai/gpt-2/blob/master/src/encoder.py](https://github.com/openai/gpt-2/blob/master/src/encoder.py)  \n",
                "- 在本章中，我们使用的是 OpenAI 开源的 [tiktoken](https://github.com/openai/tiktoken) 库中的 BPE 分词器，该库使用 Rust 实现其核心算法以提高计算性能  \n",
                "- 我在 [./bytepair_encoder](../02_bonus_bytepair-encoder) 中创建了一个笔记本，将这两种实现进行了并排比较（在样本文本上，tiktoken 的速度大约快了 5 倍）"
            ]
        },
        {
            "cell_type": "code",
            "execution_count": 29,
            "id": "ede1d41f-934b-4bf4-8184-54394a257a94",
            "metadata": {},
            "outputs": [],
            "source": [
                "#!pip install tiktoken"
            ]
        },
        {
            "cell_type": "code",
            "execution_count": 30,
            "id": "48967a77-7d17-42bf-9e92-fc619d63a59e",
            "metadata": {},
            "outputs": [
                {
                    "name": "stdout",
                    "output_type": "stream",
                    "text": [
                        "tiktoken version: 0.9.0\n"
                    ]
                }
            ],
            "source": [
                "import importlib\n",
                "import tiktoken\n",
                "\n",
                "print(\"tiktoken version:\", importlib.metadata.version(\"tiktoken\"))"
            ]
        },
        {
            "cell_type": "code",
            "execution_count": 31,
            "id": "6ad3312f-a5f7-4efc-9d7d-8ea09d7b5128",
            "metadata": {},
            "outputs": [],
            "source": [
                "tokenizer = tiktoken.get_encoding(\"gpt2\")"
            ]
        },
        {
            "cell_type": "code",
            "execution_count": 34,
            "id": "5ff2cd85-7cfb-4325-b390-219938589428",
            "metadata": {},
            "outputs": [
                {
                    "name": "stdout",
                    "output_type": "stream",
                    "text": [
                        "[15496, 11, 466, 345, 588, 8887, 30, 220, 50256, 554, 262, 4252, 18250, 8812, 2114, 1659, 617, 34680, 27271, 13]\n"
                    ]
                }
            ],
            "source": [
                "text = (\n",
                "    \"Hello, do you like tea? <|endoftext|> In the sunlit terraces\"\n",
                "     \"of someunknownPlace.\"\n",
                ")\n",
                "\n",
                "integers = tokenizer.encode(text, allowed_special={\"<|endoftext|>\"})\n",
                "print(integers)"
            ]
        },
        {
            "cell_type": "code",
            "execution_count": 35,
            "id": "d26a48bb-f82e-41a8-a955-a1c9cf9d50ab",
            "metadata": {},
            "outputs": [
                {
                    "name": "stdout",
                    "output_type": "stream",
                    "text": [
                        "Hello, do you like tea? <|endoftext|> In the sunlit terracesof someunknownPlace.\n"
                    ]
                }
            ],
            "source": [
                "strings = tokenizer.decode(integers)\n",
                "print(strings)"
            ]
        },
        {
            "cell_type": "markdown",
            "id": "e8c2e7b4-6a22-42aa-8e4d-901f06378d4a",
            "metadata": {},
            "source": [
                "- BPE 分词器将未知单词分解为子词和单个字符："
            ]
        },
        {
            "cell_type": "code",
            "execution_count": 36,
            "id": "d7ea89a2",
            "metadata": {},
            "outputs": [
                {
                    "name": "stdout",
                    "output_type": "stream",
                    "text": [
                        "[33901, 86, 343, 86, 220, 959]\n",
                        "Akwirw ier\n"
                    ]
                }
            ],
            "source": [
                "#TODO: 练习把 Akwirw ier 输入 tokenize 并且逆向操作\n",
                "interest_word = \"Akwirw ier\"\n",
                "integer_token = tokenizer.encode(interest_word)\n",
                "print(integer_token)\n",
                "returned_word = tokenizer.decode(integer_token)\n",
                "print(returned_word)"
            ]
        },
        {
            "cell_type": "markdown",
            "id": "c082d41f-33d7-4827-97d8-993d5a84bb3c",
            "metadata": {},
            "source": [
                "<img src=\"https://sebastianraschka.com/images/LLMs-from-scratch-images/ch02_compressed/11.webp\" width=\"600px\">"
            ]
        },
        {
            "cell_type": "markdown",
            "id": "abbd7c0d-70f8-4386-a114-907e96c950b0",
            "metadata": {},
            "source": [
                "## 2.6 使用滑动窗口进行数据采样"
            ]
        },
        {
            "cell_type": "markdown",
            "id": "509d9826-6384-462e-aa8a-a7c73cd6aad0",
            "metadata": {},
            "source": [
                "- 我们训练 LLM 一次生成一个单词，因此我们需要相应地准备训练数据，其中序列中的下一个单词代表要预测的目标："
            ]
        },
        {
            "cell_type": "markdown",
            "id": "39fb44f4-0c43-4a6a-9c2f-9cf31452354c",
            "metadata": {},
            "source": [
                "<img src=\"https://sebastianraschka.com/images/LLMs-from-scratch-images/ch02_compressed/12.webp\" width=\"800px\">"
            ]
        },
        {
            "cell_type": "code",
            "execution_count": 37,
            "id": "848d5ade-fd1f-46c3-9e31-1426e315c71b",
            "metadata": {},
            "outputs": [
                {
                    "name": "stdout",
                    "output_type": "stream",
                    "text": [
                        "5145\n"
                    ]
                }
            ],
            "source": [
                "with open(\"the-verdict.txt\", \"r\", encoding=\"utf-8\") as f:\n",
                "    raw_text = f.read()\n",
                "\n",
                "enc_text = tokenizer.encode(raw_text)\n",
                "print(len(enc_text))"
            ]
        },
        {
            "cell_type": "markdown",
            "id": "cebd0657-5543-43ca-8011-2ae6bd0a5810",
            "metadata": {},
            "source": [
                "- 对于每个文本块，我们需要输入和目标  \n",
                "- 由于我们希望模型预测下一个单词，目标是输入向右移动一个位置的结果"
            ]
        },
        {
            "cell_type": "code",
            "execution_count": 38,
            "id": "e84424a7-646d-45b6-99e3-80d15fb761f2",
            "metadata": {},
            "outputs": [],
            "source": [
                "enc_sample = enc_text[50:]"
            ]
        },
        {
            "cell_type": "code",
            "execution_count": 39,
            "id": "dfbff852-a92f-48c8-a46d-143a0f109f40",
            "metadata": {},
            "outputs": [
                {
                    "name": "stdout",
                    "output_type": "stream",
                    "text": [
                        "x: [290, 4920, 2241, 287]\n",
                        "y:      [4920, 2241, 287, 257]\n"
                    ]
                }
            ],
            "source": [
                "context_size = 4\n",
                "\n",
                "x = enc_sample[:context_size]\n",
                "y = enc_sample[1:context_size+1]\n",
                "\n",
                "print(f\"x: {x}\")\n",
                "print(f\"y:      {y}\")"
            ]
        },
        {
            "cell_type": "markdown",
            "id": "815014ef-62f7-4476-a6ad-66e20e42b7c3",
            "metadata": {},
            "source": [
                "- One by one, the prediction would look like as follows:"
            ]
        },
        {
            "cell_type": "code",
            "execution_count": 40,
            "id": "d97b031e-ed55-409d-95f2-aeb38c6fe366",
            "metadata": {},
            "outputs": [
                {
                    "name": "stdout",
                    "output_type": "stream",
                    "text": [
                        "[290] ----> 4920\n",
                        "[290, 4920] ----> 2241\n",
                        "[290, 4920, 2241] ----> 287\n",
                        "[290, 4920, 2241, 287] ----> 257\n"
                    ]
                }
            ],
            "source": [
                "for i in range(1, context_size+1):\n",
                "    context = enc_sample[:i]\n",
                "    desired = enc_sample[i]\n",
                "\n",
                "    print(context, \"---->\", desired)"
            ]
        },
        {
            "cell_type": "code",
            "execution_count": 41,
            "id": "f57bd746-dcbf-4433-8e24-ee213a8c34a1",
            "metadata": {},
            "outputs": [
                {
                    "name": "stdout",
                    "output_type": "stream",
                    "text": [
                        " and ---->  established\n",
                        " and established ---->  himself\n",
                        " and established himself ---->  in\n",
                        " and established himself in ---->  a\n"
                    ]
                }
            ],
            "source": [
                "for i in range(1, context_size+1):\n",
                "    context = enc_sample[:i]\n",
                "    desired = enc_sample[i]\n",
                "\n",
                "    print(tokenizer.decode(context), \"---->\", tokenizer.decode([desired]))"
            ]
        },
        {
            "cell_type": "markdown",
            "id": "210d2dd9-fc20-4927-8d3d-1466cf41aae1",
            "metadata": {},
            "source": [
                "- 我们将在后续章节中介绍注意力机制之后，再处理下一个词的预测问题  \n",
                "- 目前，我们实现一个简单的数据加载器，它会遍历输入数据集并返回向右移动一位的输入和目标"
            ]
        },
        {
            "cell_type": "markdown",
            "id": "a1a1b47a-f646-49d1-bc70-fddf2c840796",
            "metadata": {},
            "source": [
                "- 安装并导入 PyTorch（有关安装提示，请参见附录 A）"
            ]
        },
        {
            "cell_type": "code",
            "execution_count": 42,
            "id": "e1770134-e7f3-4725-a679-e04c3be48cac",
            "metadata": {},
            "outputs": [
                {
                    "name": "stdout",
                    "output_type": "stream",
                    "text": [
                        "PyTorch version: 2.6.0\n"
                    ]
                }
            ],
            "source": [
                "import torch\n",
                "print(\"PyTorch version:\", torch.__version__)"
            ]
        },
        {
            "cell_type": "markdown",
            "id": "0c9a3d50-885b-49bc-b791-9f5cc8bc7b7c",
            "metadata": {},
            "source": [
                "- 我们使用滑动窗口方法，每次将位置向右移动 +1：\n",
                "\n",
                "<img src=\"https://sebastianraschka.com/images/LLMs-from-scratch-images/ch02_compressed/13.webp?123\" width=\"800px\">"
            ]
        },
        {
            "cell_type": "markdown",
            "id": "92ac652d-7b38-4843-9fbd-494cdc8ec12c",
            "metadata": {},
            "source": [
                "- 创建从输入文本数据集中提取块的数据集和数据加载器"
            ]
        },
        {
            "cell_type": "code",
            "execution_count": 44,
            "id": "74b41073-4c9f-46e2-a1bd-d38e4122b375",
            "metadata": {},
            "outputs": [],
            "source": [
                "from torch.utils.data import Dataset, DataLoader\n",
                "\n",
                "class GPTDatasetV1(Dataset):\n",
                "    \"\"\"\n",
                "    GPTDatasetV1 类是一个自定义的 PyTorch Dataset，用于准备语言模型训练数据。\n",
                "    它将文本转换为重叠的序列对，每对包含输入序列和目标序列（输入序列向右偏移一个token）。\n",
                "    这种设计使模型能够学习预测序列中的下一个token，这是语言模型预训练的标准方法。\n",
                "    \"\"\"\n",
                "    def __init__(self, txt, tokenizer, max_length, stride):\n",
                "        \"\"\"\n",
                "        初始化 GPTDatasetV1 对象。\n",
                "        \n",
                "        参数:\n",
                "            txt (str): 要处理的原始文本\n",
                "            tokenizer: 用于将文本转换为token ID的分词器\n",
                "            max_length (int): 每个输入序列的最大长度\n",
                "            stride (int): 滑动窗口的步长，决定了相邻序列之间的重叠程度\n",
                "        \"\"\"\n",
                "        self.input_ids = []  # 存储所有输入序列\n",
                "        self.target_ids = []  # 存储所有目标序列（每个都是对应输入序列向右偏移一位）\n",
                "\n",
                "        # 使用tokenizer将整个文本编码为token ID序列\n",
                "        # allowed_special参数允许特殊token \"<|endoftext|>\" 在文本中保留\n",
                "        token_ids = tokenizer.encode(txt, allowed_special={\"<|endoftext|>\"})\n",
                "\n",
                "        # 使用滑动窗口将token序列分割成重叠的块\n",
                "        # 每次移动stride个位置，创建一个新的长度为max_length的序列\n",
                "        for i in range(0, len(token_ids) - max_length, stride):\n",
                "            # 提取当前位置的输入块\n",
                "            input_chunk = token_ids[i:i + max_length]\n",
                "            # 提取目标块（比输入块向右偏移一个位置）\n",
                "            target_chunk = token_ids[i + 1: i + max_length + 1]\n",
                "            # 将输入和目标块转换为PyTorch张量并存储\n",
                "            self.input_ids.append(torch.tensor(input_chunk))\n",
                "            self.target_ids.append(torch.tensor(target_chunk))\n",
                "\n",
                "    def __len__(self):\n",
                "        \"\"\"\n",
                "        返回数据集中的样本数量。\n",
                "        \n",
                "        返回:\n",
                "            int: 数据集中的样本数量\n",
                "        \"\"\"\n",
                "        return len(self.input_ids)\n",
                "\n",
                "    def __getitem__(self, idx):\n",
                "        \"\"\"\n",
                "        获取指定索引的样本。\n",
                "\n",
                "        参数:\n",
                "            idx (int): 要获取的样本的索引\n",
                "            \n",
                "        返回:\n",
                "            tuple: 包含(输入序列, 目标序列)的元组\n",
                "        \"\"\"\n",
                "        return self.input_ids[idx], self.target_ids[idx]\n"
            ]
        },
        {
            "cell_type": "code",
            "execution_count": 45,
            "id": "5eb30ebe-97b3-43c5-9ff1-a97d621b3c4e",
            "metadata": {},
            "outputs": [],
            "source": [
                "def create_dataloader_v1(txt, batch_size=4, max_length=256, \n",
                "                         stride=128, shuffle=True, drop_last=True,\n",
                "                         num_workers=0):\n",
                "    \"\"\"\n",
                "    创建一个用于GPT模型训练的PyTorch DataLoader。\n",
                "    \n",
                "    这个函数封装了数据集创建和数据加载器配置的过程，提供了一个简便的接口\n",
                "    来准备训练数据。它使用GPTDatasetV1类处理文本数据，并配置DataLoader\n",
                "    以适合语言模型训练的批处理方式。\n",
                "    \n",
                "    参数:\n",
                "        txt (str): 要处理的原始文本\n",
                "        batch_size (int, 可选): 每个批次包含的样本数，默认为4\n",
                "        max_length (int, 可选): 每个序列的最大token数，默认为256\n",
                "        stride (int, 可选): 滑动窗口的步长，决定序列间的重叠程度，默认为128\n",
                "        shuffle (bool, 可选): 是否在每个epoch随机打乱数据，默认为True\n",
                "        drop_last (bool, 可选): 如果最后一个批次不完整是否丢弃，默认为True\n",
                "        num_workers (int, 可选): 用于数据加载的子进程数量，默认为0（在主进程中加载）\n",
                "        \n",
                "    返回:\n",
                "        DataLoader: 配置好的PyTorch数据加载器，可直接用于模型训练\n",
                "    \"\"\"\n",
                "\n",
                "    # 初始化tokenizer，使用GPT-2的编码方式\n",
                "    # tiktoken是OpenAI开发的高效tokenizer库\n",
                "    tokenizer = tiktoken.get_encoding(\"gpt2\")\n",
                "\n",
                "    # 创建数据集实例\n",
                "    # 将原始文本转换为模型可用的输入-目标对序列\n",
                "    dataset = GPTDatasetV1(txt, tokenizer, max_length, stride)\n",
                "\n",
                "    # 创建并配置DataLoader\n",
                "    # - batch_size: 控制每批处理的样本数\n",
                "    # - shuffle: 随机打乱数据，增强训练的随机性，防止模型记忆数据顺序\n",
                "    # - drop_last: 如果为True，丢弃不足一个批次的最后几个样本\n",
                "    # - num_workers: 控制数据加载的并行程度，0表示在主进程中加载\n",
                "    dataloader = DataLoader(\n",
                "        dataset,\n",
                "        batch_size=batch_size,\n",
                "        shuffle=shuffle,\n",
                "        drop_last=drop_last,\n",
                "        num_workers=num_workers\n",
                "    )\n",
                "\n",
                "    return dataloader\n"
            ]
        },
        {
            "cell_type": "markdown",
            "id": "42dd68ef-59f7-45ff-ba44-e311c899ddcd",
            "metadata": {},
            "source": [
                "- 我们来测试一下使用批量大小为1、上下文大小为4的数据加载器，看看它如何处理文本数据"
            ]
        },
        {
            "cell_type": "code",
            "execution_count": 46,
            "id": "df31d96c-6bfd-4564-a956-6192242d7579",
            "metadata": {},
            "outputs": [],
            "source": [
                "with open(\"the-verdict.txt\", \"r\", encoding=\"utf-8\") as f:\n",
                "    raw_text = f.read()"
            ]
        },
        {
            "cell_type": "code",
            "execution_count": 47,
            "id": "9226d00c-ad9a-4949-a6e4-9afccfc7214f",
            "metadata": {},
            "outputs": [
                {
                    "name": "stdout",
                    "output_type": "stream",
                    "text": [
                        "[tensor([[  40,  367, 2885, 1464]]), tensor([[ 367, 2885, 1464, 1807]])]\n"
                    ]
                }
            ],
            "source": [
                "dataloader = create_dataloader_v1(\n",
                "    raw_text, batch_size=1, max_length=4, stride=1, shuffle=False\n",
                ")\n",
                "\n",
                "data_iter = iter(dataloader)\n",
                "first_batch = next(data_iter)\n",
                "print(first_batch)"
            ]
        },
        {
            "cell_type": "code",
            "execution_count": 48,
            "id": "10deb4bc-4de1-4d20-921e-4b1c7a0e1a6d",
            "metadata": {},
            "outputs": [
                {
                    "name": "stdout",
                    "output_type": "stream",
                    "text": [
                        "[tensor([[ 367, 2885, 1464, 1807]]), tensor([[2885, 1464, 1807, 3619]])]\n"
                    ]
                }
            ],
            "source": [
                "second_batch = next(data_iter)\n",
                "print(second_batch)"
            ]
        },
        {
            "cell_type": "markdown",
            "id": "b006212f-de45-468d-bdee-5806216d1679",
            "metadata": {},
            "source": [
                "- 以下是一个使用步幅等于上下文长度（此处为 4）的示例："
            ]
        },
        {
            "cell_type": "markdown",
            "id": "9cb467e0-bdcd-4dda-b9b0-a738c5d33ac3",
            "metadata": {},
            "source": [
                "<img src=\"https://sebastianraschka.com/images/LLMs-from-scratch-images/ch02_compressed/14.webp\" width=\"800px\">"
            ]
        },
        {
            "cell_type": "markdown",
            "id": "b1ae6d45-f26e-4b83-9c7b-cff55ffa7d16",
            "metadata": {},
            "source": [
                "- 我们还可以创建批处理输出  \n",
                "- 注意，这里我们增加了步幅，以确保批次之间没有重叠，因为更多的重叠可能会导致过拟合加剧"
            ]
        },
        {
            "cell_type": "code",
            "execution_count": 49,
            "id": "1916e7a6-f03d-4f09-91a6-d0bdbac5a58c",
            "metadata": {},
            "outputs": [
                {
                    "name": "stdout",
                    "output_type": "stream",
                    "text": [
                        "Inputs:\n",
                        " tensor([[   40,   367,  2885,  1464],\n",
                        "        [ 1807,  3619,   402,   271],\n",
                        "        [10899,  2138,   257,  7026],\n",
                        "        [15632,   438,  2016,   257],\n",
                        "        [  922,  5891,  1576,   438],\n",
                        "        [  568,   340,   373,   645],\n",
                        "        [ 1049,  5975,   284,   502],\n",
                        "        [  284,  3285,   326,    11]])\n",
                        "\n",
                        "Targets:\n",
                        " tensor([[  367,  2885,  1464,  1807],\n",
                        "        [ 3619,   402,   271, 10899],\n",
                        "        [ 2138,   257,  7026, 15632],\n",
                        "        [  438,  2016,   257,   922],\n",
                        "        [ 5891,  1576,   438,   568],\n",
                        "        [  340,   373,   645,  1049],\n",
                        "        [ 5975,   284,   502,   284],\n",
                        "        [ 3285,   326,    11,   287]])\n"
                    ]
                }
            ],
            "source": [
                "dataloader = create_dataloader_v1(raw_text, batch_size=8, max_length=4, stride=4, shuffle=False)\n",
                "\n",
                "data_iter = iter(dataloader)\n",
                "inputs, targets = next(data_iter)\n",
                "print(\"Inputs:\\n\", inputs)\n",
                "print(\"\\nTargets:\\n\", targets)"
            ]
        },
        {
            "cell_type": "markdown",
            "id": "2cd2fcda-2fda-4aa8-8bc8-de1e496f9db1",
            "metadata": {},
            "source": [
                "## 2.7 创建标记嵌入 (Token Embeddings)"
            ]
        },
        {
            "cell_type": "markdown",
            "id": "1a301068-6ab2-44ff-a915-1ba11688274f",
            "metadata": {},
            "source": [
                "- 数据已经几乎准备好用于 LLM  \n",
                "- 但最后，让我们通过嵌入层将标记转换为连续的向量表示  \n",
                "- 通常，这些嵌入层是 LLM 的一部分，并在模型训练期间进行更新（训练）"
            ]
        },
        {
            "cell_type": "markdown",
            "id": "e85089aa-8671-4e5f-a2b3-ef252004ee4c",
            "metadata": {},
            "source": [
                "<img src=\"https://sebastianraschka.com/images/LLMs-from-scratch-images/ch02_compressed/15.webp\" width=\"700px\">"
            ]
        },
        {
            "cell_type": "markdown",
            "id": "44e014ca-1fc5-4b90-b6fa-c2097bb92c0b",
            "metadata": {},
            "source": [
                "- 假设我们有以下四个输入示例，其输入 ID 分别为 2、3、5 和 1（分词后）："
            ]
        },
        {
            "cell_type": "code",
            "execution_count": 50,
            "id": "15a6304c-9474-4470-b85d-3991a49fa653",
            "metadata": {},
            "outputs": [],
            "source": [
                "input_ids = torch.tensor([2, 3, 5, 1])"
            ]
        },
        {
            "cell_type": "markdown",
            "id": "14da6344-2c71-4837-858d-dd120005ba05",
            "metadata": {},
            "source": [
                "- 为了简化起见，假设我们有一个仅包含 6 个单词的小词汇表，并且我们希望创建大小为 3 的嵌入："
            ]
        },
        {
            "cell_type": "code",
            "execution_count": 51,
            "id": "93cb2cee-9aa6-4bb8-8977-c65661d16eda",
            "metadata": {},
            "outputs": [],
            "source": [
                "vocab_size = 6\n",
                "output_dim = 3\n",
                "\n",
                "torch.manual_seed(123)\n",
                "embedding_layer = torch.nn.Embedding(vocab_size, output_dim)"
            ]
        },
        {
            "cell_type": "markdown",
            "id": "4ff241f6-78eb-4e4a-a55f-5b2b6196d5b0",
            "metadata": {},
            "source": [
                "- 这将生成一个 6x3 的权重矩阵："
            ]
        },
        {
            "cell_type": "code",
            "execution_count": 55,
            "id": "a686eb61-e737-4351-8f1c-222913d47468",
            "metadata": {},
            "outputs": [
                {
                    "name": "stdout",
                    "output_type": "stream",
                    "text": [
                        "torch.Size([6, 3])\n",
                        "Parameter containing:\n",
                        "tensor([[ 0.3374, -0.1778, -0.1690],\n",
                        "        [ 0.9178,  1.5810,  1.3010],\n",
                        "        [ 1.2753, -0.2010, -0.1606],\n",
                        "        [-0.4015,  0.9666, -1.1481],\n",
                        "        [-1.1589,  0.3255, -0.6315],\n",
                        "        [-2.8400, -0.7849, -1.4096]], requires_grad=True)\n"
                    ]
                }
            ],
            "source": [
                "print(embedding_layer.weight.shape)\n",
                "print(embedding_layer.weight)"
            ]
        },
        {
            "cell_type": "markdown",
            "id": "26fcf4f5-0801-4eb4-bb90-acce87935ac7",
            "metadata": {},
            "source": [
                "- 对于熟悉独热编码 (one-hot encoding) 的人来说，上述嵌入层方法本质上只是在全连接层中实现独热编码后进行矩阵乘法的一种更高效的方式，相关内容在补充代码 [./embedding_vs_matmul](../03_bonus_embedding-vs-matmul) 中有所描述。  \n",
                "- 因为嵌入层只是独热编码和矩阵乘法方法的一种更高效的等效实现，所以它可以被视为一种可以通过反向传播进行优化的神经网络层。"
            ]
        },
        {
            "cell_type": "markdown",
            "id": "4b0d58c3-83c0-4205-aca2-9c48b19fd4a7",
            "metadata": {},
            "source": [
                "- 要将 ID 为 3 的标记转换为三维向量，我们需要执行以下操作："
            ]
        },
        {
            "cell_type": "code",
            "execution_count": 56,
            "id": "e43600ba-f287-4746-8ddf-d0f71a9023ca",
            "metadata": {},
            "outputs": [
                {
                    "name": "stdout",
                    "output_type": "stream",
                    "text": [
                        "tensor([[-0.4015,  0.9666, -1.1481]], grad_fn=<EmbeddingBackward0>)\n"
                    ]
                }
            ],
            "source": [
                "print(embedding_layer(torch.tensor([3])))"
            ]
        },
        {
            "cell_type": "markdown",
            "id": "a7bbf625-4f36-491d-87b4-3969efb784b0",
            "metadata": {},
            "source": [
                "- 注意，上面的结果是 `embedding_layer` 权重矩阵的第 4 行  \n",
                "- 要嵌入上述所有四个 `input_ids` 值，我们执行以下操作："
            ]
        },
        {
            "cell_type": "code",
            "execution_count": 57,
            "id": "50280ead-0363-44c8-8c35-bb885d92c8b7",
            "metadata": {},
            "outputs": [
                {
                    "name": "stdout",
                    "output_type": "stream",
                    "text": [
                        "tensor([[ 1.2753, -0.2010, -0.1606],\n",
                        "        [-0.4015,  0.9666, -1.1481],\n",
                        "        [-2.8400, -0.7849, -1.4096],\n",
                        "        [ 0.9178,  1.5810,  1.3010]], grad_fn=<EmbeddingBackward0>)\n"
                    ]
                }
            ],
            "source": [
                "print(embedding_layer(input_ids))"
            ]
        },
        {
            "cell_type": "markdown",
            "id": "be97ced4-bd13-42b7-866a-4d699a17e155",
            "metadata": {},
            "source": [
                "- 嵌入层本质上是一个查找操作："
            ]
        },
        {
            "cell_type": "markdown",
            "id": "f33c2741-bf1b-4c60-b7fd-61409d556646",
            "metadata": {},
            "source": [
                "<img src=\"https://sebastianraschka.com/images/LLMs-from-scratch-images/ch02_compressed/16.webp?123\" width=\"700px\">"
            ]
        },
        {
            "cell_type": "markdown",
            "id": "08218d9f-aa1a-4afb-a105-72ff96a54e73",
            "metadata": {},
            "source": [
                "- **You may be interested in the bonus content comparing embedding layers with regular linear layers: [../03_bonus_embedding-vs-matmul](../03_bonus_embedding-vs-matmul)**"
            ]
        },
        {
            "cell_type": "markdown",
            "id": "c393d270-b950-4bc8-99ea-97d74f2ea0f6",
            "metadata": {},
            "source": [
                "## 2.8 编码单词位置"
            ]
        },
        {
            "cell_type": "markdown",
            "id": "24940068-1099-4698-bdc0-e798515e2902",
            "metadata": {},
            "source": [
                "- 嵌入层将 ID 转换为相同的向量表示，而不考虑它们在输入序列中的位置："
            ]
        },
        {
            "cell_type": "markdown",
            "id": "9e0b14a2-f3f3-490e-b513-f262dbcf94fa",
            "metadata": {},
            "source": [
                "<img src=\"https://sebastianraschka.com/images/LLMs-from-scratch-images/ch02_compressed/17.webp\" width=\"700px\">"
            ]
        },
        {
            "cell_type": "markdown",
            "id": "92a7d7fe-38a5-46e6-8db6-b688887b0430",
            "metadata": {},
            "source": [
                "- 位置嵌入与标记嵌入向量结合，形成大型语言模型的输入嵌入："
            ]
        },
        {
            "cell_type": "markdown",
            "id": "48de37db-d54d-45c4-ab3e-88c0783ad2e4",
            "metadata": {},
            "source": [
                "<img src=\"https://sebastianraschka.com/images/LLMs-from-scratch-images/ch02_compressed/18.webp\" width=\"700px\">"
            ]
        },
        {
            "cell_type": "markdown",
            "id": "7f187f87-c1f8-4c2e-8050-350bbb972f55",
            "metadata": {},
            "source": [
                "- BytePair 编码器的词汇表大小为 50,257：  \n",
                "- 假设我们希望将输入标记编码为 256 维的向量表示："
            ]
        },
        {
            "cell_type": "code",
            "execution_count": 58,
            "id": "0b9e344d-03a6-4f2c-b723-67b6a20c5041",
            "metadata": {},
            "outputs": [],
            "source": [
                "vocab_size = 50257\n",
                "output_dim = 256\n",
                "\n",
                "token_embedding_layer = torch.nn.Embedding(vocab_size, output_dim)"
            ]
        },
        {
            "cell_type": "markdown",
            "id": "a2654722-24e4-4b0d-a43c-436a461eb70b",
            "metadata": {},
            "source": [
                "- 如果我们从数据加载器中采样数据，我们会将每个批次中的标记嵌入到 256 维的向量中。  \n",
                "- 如果我们的批量大小为 8，每个批量包含 4 个标记，这将生成一个 8 x 4 x 256 的张量："
            ]
        },
        {
            "cell_type": "code",
            "execution_count": 59,
            "id": "ad56a263-3d2e-4d91-98bf-d0b68d3c7fc3",
            "metadata": {},
            "outputs": [],
            "source": [
                "max_length = 4\n",
                "dataloader = create_dataloader_v1(\n",
                "    raw_text, batch_size=8, max_length=max_length,\n",
                "    stride=max_length, shuffle=False\n",
                ")\n",
                "data_iter = iter(dataloader)\n",
                "inputs, targets = next(data_iter)"
            ]
        },
        {
            "cell_type": "code",
            "execution_count": 62,
            "id": "84416b60-3707-4370-bcbc-da0b62f2b64d",
            "metadata": {},
            "outputs": [
                {
                    "name": "stdout",
                    "output_type": "stream",
                    "text": [
                        "Token IDs:\n",
                        " tensor([[   40,   367,  2885,  1464],\n",
                        "        [ 1807,  3619,   402,   271],\n",
                        "        [10899,  2138,   257,  7026],\n",
                        "        [15632,   438,  2016,   257],\n",
                        "        [  922,  5891,  1576,   438],\n",
                        "        [  568,   340,   373,   645],\n",
                        "        [ 1049,  5975,   284,   502],\n",
                        "        [  284,  3285,   326,    11]])\n",
                        "\n",
                        "Inputs shape:\n",
                        " torch.Size([8, 4])\n"
                    ]
                }
            ],
            "source": [
                "print(\"Token IDs:\\n\", inputs)\n",
                "print(\"\\nInputs shape:\\n\", inputs.shape)"
            ]
        },
        {
            "cell_type": "code",
            "execution_count": 63,
            "id": "7766ec38-30d0-4128-8c31-f49f063c43d1",
            "metadata": {},
            "outputs": [
                {
                    "name": "stdout",
                    "output_type": "stream",
                    "text": [
                        "torch.Size([8, 4, 256])\n"
                    ]
                }
            ],
            "source": [
                "token_embeddings = token_embedding_layer(inputs)\n",
                "print(token_embeddings.shape)\n",
                "\n",
                "# uncomment & execute the following line to see how the embeddings look like\n",
                "# print(token_embedding)"
            ]
        },
        {
            "cell_type": "markdown",
            "id": "fe2ae164-6f19-4e32-b9e5-76950fcf1c9f",
            "metadata": {},
            "source": [
                "- GPT-2 使用绝对位置嵌入，因此我们只需创建另一个嵌入层："
            ]
        },
        {
            "cell_type": "code",
            "execution_count": 66,
            "id": "cc048e20-7ac8-417e-81f5-8fe6f9a4fe07",
            "metadata": {},
            "outputs": [
                {
                    "name": "stdout",
                    "output_type": "stream",
                    "text": [
                        "Parameter containing:\n",
                        "tensor([[-0.8194,  0.5543, -0.8290,  ...,  0.1325,  0.2115,  0.3610],\n",
                        "        [ 0.4193, -0.9461, -0.3407,  ...,  0.7930,  1.7009,  0.5663],\n",
                        "        [-0.2362, -1.7187, -1.0489,  ...,  1.1218,  0.2796,  0.9912],\n",
                        "        [-0.9549,  0.4699,  0.2580,  ..., -1.3689,  1.6505,  1.3488]],\n",
                        "       requires_grad=True)\n"
                    ]
                }
            ],
            "source": [
                "context_length = max_length\n",
                "pos_embedding_layer = torch.nn.Embedding(context_length, output_dim)\n",
                "\n",
                "# uncomment & execute the following line to see how the embedding layer weights look like\n",
                "print(pos_embedding_layer.weight)"
            ]
        },
        {
            "cell_type": "code",
            "execution_count": 67,
            "id": "c369a1e7-d566-4b53-b398-d6adafb44105",
            "metadata": {},
            "outputs": [
                {
                    "name": "stdout",
                    "output_type": "stream",
                    "text": [
                        "torch.Size([4, 256])\n"
                    ]
                }
            ],
            "source": [
                "pos_embeddings = pos_embedding_layer(torch.arange(max_length))\n",
                "print(pos_embeddings.shape)\n",
                "\n",
                "# uncomment & execute the following line to see how the embeddings look like\n",
                "# print(pos_embeddings)"
            ]
        },
        {
            "cell_type": "markdown",
            "id": "870e9d9f-2935-461a-9518-6d1386b976d6",
            "metadata": {},
            "source": [
                "- 要创建用于 LLM 的输入嵌入，我们只需将标记嵌入和位置嵌入相加："
            ]
        },
        {
            "cell_type": "code",
            "execution_count": 68,
            "id": "b22fab89-526e-43c8-9035-5b7018e34288",
            "metadata": {},
            "outputs": [
                {
                    "name": "stdout",
                    "output_type": "stream",
                    "text": [
                        "torch.Size([8, 4, 256])\n",
                        "tensor([[[-0.3281,  1.6782,  0.6298,  ..., -0.2670, -1.6620,  0.2165],\n",
                        "         [ 0.8674, -0.6925, -0.6063,  ...,  1.2927,  0.5018, -0.6181],\n",
                        "         [-0.4869, -1.7733, -0.3802,  ...,  2.0836,  2.6533,  0.9384],\n",
                        "         [-0.0091,  1.3356,  1.8771,  ..., -1.8233,  0.9045,  1.6972]],\n",
                        "\n",
                        "        [[ 0.7267,  2.2912, -1.6138,  ...,  0.0321,  1.0699,  0.0189],\n",
                        "         [-1.4429, -1.1375, -0.7219,  ...,  1.9150,  1.3513,  1.1754],\n",
                        "         [ 1.7486, -2.3669, -1.1904,  ...,  0.7377, -0.6559,  2.4390],\n",
                        "         [ 0.0099,  1.7672, -1.3627,  ..., -0.2226,  3.2302,  1.7457]],\n",
                        "\n",
                        "        [[-1.5907,  1.2115, -0.6627,  ..., -0.6719,  0.2657,  1.1036],\n",
                        "         [ 1.2239, -0.4414,  0.9515,  ...,  2.2578,  2.1106,  0.8868],\n",
                        "         [-0.1567, -3.4823, -0.4740,  ...,  3.3041,  2.1027,  0.6277],\n",
                        "         [-0.5282,  0.4051,  0.8265,  ..., -1.8898,  2.9570,  2.1961]],\n",
                        "\n",
                        "        ...,\n",
                        "\n",
                        "        [[-2.4349,  1.5153, -3.4727,  ..., -0.8320,  1.3004,  1.9994],\n",
                        "         [ 0.0208, -1.8696, -1.6570,  ..., -0.3652,  0.5696,  1.5410],\n",
                        "         [ 0.3728, -1.1858, -0.8510,  ...,  0.4885, -0.8227,  2.6204],\n",
                        "         [-0.5872,  0.2998, -1.1208,  ..., -0.6641,  2.1533,  1.2915]],\n",
                        "\n",
                        "        [[-0.9473,  1.1698,  0.8883,  ...,  0.5114, -0.2637,  1.8868],\n",
                        "         [ 0.9054, -2.6566,  0.1009,  ...,  0.9405, -0.1385,  2.4418],\n",
                        "         [-1.1935, -1.0180,  0.3090,  ...,  3.0596, -1.6256, -0.1904],\n",
                        "         [-0.7547, -0.2907, -1.2590,  ..., -1.3994,  1.2849,  1.2090]],\n",
                        "\n",
                        "        [[-1.7767,  1.2550,  0.5289,  ...,  2.0703, -1.6937, -0.8205],\n",
                        "         [ 0.3562, -1.6009, -1.3703,  ..., -0.1608,  1.1983,  0.4535],\n",
                        "         [ 0.3671, -0.8203,  1.0232,  ...,  2.6459,  0.4826,  0.6910],\n",
                        "         [ 0.1726,  0.3616,  0.0384,  ..., -0.8630, -0.1632,  1.2788]]],\n",
                        "       grad_fn=<AddBackward0>)\n"
                    ]
                }
            ],
            "source": [
                "input_embeddings = token_embeddings + pos_embeddings\n",
                "print(input_embeddings.shape)\n",
                "\n",
                "# uncomment & execute the following line to see how the embeddings look like\n",
                "print(input_embeddings)"
            ]
        },
        {
            "cell_type": "markdown",
            "id": "1fbda581-6f9b-476f-8ea7-d244e6a4eaec",
            "metadata": {},
            "source": [
                "- 在输入处理流程的初始阶段，输入文本被分割为单独的标记。  \n",
                "- 在此分割之后，这些标记会根据预定义的词汇表转换为标记 ID："
            ]
        },
        {
            "cell_type": "markdown",
            "id": "d1bb0f7e-460d-44db-b366-096adcd84fff",
            "metadata": {},
            "source": [
                "<img src=\"https://sebastianraschka.com/images/LLMs-from-scratch-images/ch02_compressed/19.webp\" width=\"700px\">"
            ]
        },
        {
            "cell_type": "markdown",
            "id": "63230f2e-258f-4497-9e2e-8deee4530364",
            "metadata": {},
            "source": [
                "# 总结与要点"
            ]
        },
        {
            "cell_type": "markdown",
            "id": "8b3293a6-45a5-47cd-aa00-b23e3ca0a73f",
            "metadata": {},
            "source": [
                "请参阅 [./dataloader.ipynb](./dataloader.ipynb) 代码笔记本，这是本章中实现的数据加载器的简化版本，我们将在后续章节中用它来训练 GPT 模型。\n",
                "\n",
                "练习题的解答请参阅 [./exercise-solutions.ipynb](./exercise-solutions.ipynb)。"
            ]
        }
    ],
    "metadata": {
        "kernelspec": {
            "display_name": "Python 3 (ipykernel)",
            "language": "python",
            "name": "python3"
        },
        "language_info": {
            "codemirror_mode": {
                "name": "ipython",
                "version": 3
            },
            "file_extension": ".py",
            "mimetype": "text/x-python",
            "name": "python",
            "nbconvert_exporter": "python",
            "pygments_lexer": "ipython3",
            "version": "3.12.9"
        }
    },
    "nbformat": 4,
    "nbformat_minor": 5
}
