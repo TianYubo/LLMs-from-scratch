{
 "cells": [
  {
   "cell_type": "markdown",
   "id": "6e2a4891-c257-4d6b-afb3-e8fef39d0437",
   "metadata": {},
   "source": [
    "<table style=\"width:100%\">\n",
    "<tr>\n",
    "<td style=\"vertical-align:middle; text-align:left;\">\n",
    "<font size=\"2\">\n",
    "Supplementary code for the <a href=\"http://mng.bz/orYv\">Build a Large Language Model From Scratch</a> book by <a href=\"https://sebastianraschka.com\">Sebastian Raschka</a><br>\n",
    "<br>Code repository: <a href=\"https://github.com/rasbt/LLMs-from-scratch\">https://github.com/rasbt/LLMs-from-scratch</a>\n",
    "</font>\n",
    "</td>\n",
    "<td style=\"vertical-align:middle; text-align:left;\">\n",
    "<a href=\"http://mng.bz/orYv\"><img src=\"https://sebastianraschka.com/images/LLMs-from-scratch-images/cover-small.webp\" width=\"100px\"></a>\n",
    "</td>\n",
    "</tr>\n",
    "</table>\n"
   ]
  },
  {
   "cell_type": "markdown",
   "id": "6f678e62-7bcb-4405-86ae-dce94f494303",
   "metadata": {},
   "source": [
    "# 主数据加载管道总结"
   ]
  },
  {
   "cell_type": "markdown",
   "id": "070000fc-a7b7-4c56-a2c0-a938d413a790",
   "metadata": {},
   "source": [
    "完整章节代码位于 [ch02.ipynb](./ch02.ipynb)。\n",
    "\n",
    "该笔记本包含主要的要点，即不包含中间步骤的数据加载管道。"
   ]
  },
  {
   "cell_type": "markdown",
   "id": "2b4e8f2d-cb81-41a3-8780-a70b382e18ae",
   "metadata": {},
   "source": [
    "本笔记本中使用的包："
   ]
  },
  {
   "cell_type": "code",
   "execution_count": 1,
   "id": "c7ed6fbe-45ac-40ce-8ea5-4edb212565e1",
   "metadata": {},
   "outputs": [
    {
     "name": "stdout",
     "output_type": "stream",
     "text": [
      "torch version: 2.6.0\n",
      "tiktoken version: 0.9.0\n"
     ]
    }
   ],
   "source": [
    "# NBVAL_SKIP\n",
    "from importlib.metadata import version\n",
    "\n",
    "print(\"torch version:\", version(\"torch\"))\n",
    "print(\"tiktoken version:\", version(\"tiktoken\"))"
   ]
  },
  {
   "cell_type": "code",
   "execution_count": 3,
   "id": "0ed4b7db-3b47-4fd3-a4a6-5f4ed5dd166e",
   "metadata": {},
   "outputs": [],
   "source": [
    "import tiktoken  # 导入OpenAI的tokenizer库，用于将文本转换为token ID\n",
    "import torch  # 导入PyTorch库，用于构建和训练神经网络\n",
    "from torch.utils.data import Dataset, DataLoader  # 导入PyTorch的数据处理类\n",
    "\n",
    "\n",
    "class GPTDatasetV1(Dataset):\n",
    "    \"\"\"\n",
    "    GPT数据集类，继承自PyTorch的Dataset类。\n",
    "    用于将文本数据处理成GPT模型训练所需的格式。\n",
    "    \n",
    "    参数:\n",
    "    - txt: 输入的原始文本\n",
    "    - tokenizer: 用于将文本转换为token ID的分词器\n",
    "    - max_length: 每个训练样本的最大长度\n",
    "    - stride: 滑动窗口的步长，用于创建重叠的训练样本\n",
    "    \"\"\"\n",
    "    def __init__(self, txt, tokenizer, max_length, stride):\n",
    "        self.input_ids = []  # 存储输入序列\n",
    "        self.target_ids = []  # 存储目标序列（预测目标）\n",
    "\n",
    "        # 使用tokenizer将整个文本编码为token ID\n",
    "        token_ids = tokenizer.encode(txt, allowed_special={\"<|endoftext|>\"})\n",
    "\n",
    "        # 使用滑动窗口将文本分割成重叠的序列\n",
    "        for i in range(0, len(token_ids) - max_length, stride):\n",
    "            input_chunk = token_ids[i:i + max_length]  # 输入序列\n",
    "            target_chunk = token_ids[i + 1: i + max_length + 1]  # 目标序列（输入序列向右移动一位）\n",
    "            self.input_ids.append(torch.tensor(input_chunk))\n",
    "            self.target_ids.append(torch.tensor(target_chunk))\n",
    "\n",
    "    def __len__(self):\n",
    "        \"\"\"\n",
    "        返回数据集中样本的数量\n",
    "        \"\"\"\n",
    "        return len(self.input_ids)\n",
    "\n",
    "    def __getitem__(self, idx):\n",
    "        \"\"\"\n",
    "        返回指定索引的样本对（输入序列和目标序列）\n",
    "        \"\"\"\n",
    "        return self.input_ids[idx], self.target_ids[idx]\n",
    "\n",
    "\n",
    "def create_dataloader_v1(txt, batch_size, max_length, stride,\n",
    "                         shuffle=True, drop_last=True, num_workers=0):\n",
    "    \"\"\"\n",
    "    创建用于GPT模型训练的DataLoader。\n",
    "    \n",
    "    参数:\n",
    "    - txt: 输入的原始文本\n",
    "    - batch_size: 每个批次的样本数量\n",
    "    - max_length: 每个样本的最大长度\n",
    "    - stride: 滑动窗口的步长\n",
    "    - shuffle: 是否在每个epoch打乱数据\n",
    "    - drop_last: 如果最后一个batch不完整，是否丢弃\n",
    "    - num_workers: 用于数据加载的子进程数量\n",
    "    \n",
    "    返回:\n",
    "    - dataloader: PyTorch的DataLoader对象，用于批量加载数据\n",
    "    \"\"\"\n",
    "    # 初始化tokenizer，使用GPT-2的编码方式\n",
    "    tokenizer = tiktoken.get_encoding(\"gpt2\")\n",
    "\n",
    "    # 创建数据集\n",
    "    dataset = GPTDatasetV1(txt, tokenizer, max_length, stride)\n",
    "\n",
    "    # 创建数据加载器\n",
    "    dataloader = DataLoader(\n",
    "        dataset, batch_size=batch_size, shuffle=shuffle, drop_last=drop_last, num_workers=num_workers)\n",
    "\n",
    "    return dataloader\n",
    "\n",
    "\n",
    "# 读取文本文件\n",
    "with open(\"the-verdict.txt\", \"r\", encoding=\"utf-8\") as f:\n",
    "    raw_text = f.read()\n",
    "\n",
    "# 设置模型参数\n",
    "vocab_size = 50257  # 词汇表大小，与GPT-2的词汇表大小一致\n",
    "output_dim = 256  # 嵌入向量的维度\n",
    "context_length = 1024  # 上下文长度，即模型能处理的最大序列长度\n",
    "\n",
    "# 创建token嵌入层，将token ID映射到向量空间\n",
    "token_embedding_layer = torch.nn.Embedding(vocab_size, output_dim)\n",
    "# 创建位置嵌入层，为序列中的每个位置创建一个唯一的向量\n",
    "pos_embedding_layer = torch.nn.Embedding(context_length, output_dim)\n",
    "\n",
    "# 设置批处理参数\n",
    "batch_size = 8  # 每个批次的样本数\n",
    "max_length = 4  # 每个样本的长度\n",
    "# 创建数据加载器\n",
    "dataloader = create_dataloader_v1(\n",
    "    raw_text,\n",
    "    batch_size=batch_size,\n",
    "    max_length=max_length,\n",
    "    stride=max_length  # 步长等于最大长度，意味着样本之间没有重叠\n",
    ")"
   ]
  },
  {
   "cell_type": "code",
   "execution_count": 4,
   "id": "664397bc-6daa-4b88-90aa-e8fc1fbd5846",
   "metadata": {},
   "outputs": [],
   "source": [
    "for batch in dataloader:\n",
    "    x, y = batch\n",
    "\n",
    "    token_embeddings = token_embedding_layer(x)\n",
    "    pos_embeddings = pos_embedding_layer(torch.arange(max_length))\n",
    "\n",
    "    input_embeddings = token_embeddings + pos_embeddings\n",
    "\n",
    "    break"
   ]
  },
  {
   "cell_type": "code",
   "execution_count": 5,
   "id": "d3664332-e6bb-447e-8b96-203aafde8b24",
   "metadata": {},
   "outputs": [
    {
     "name": "stdout",
     "output_type": "stream",
     "text": [
      "torch.Size([8, 4, 256])\n"
     ]
    }
   ],
   "source": [
    "print(input_embeddings.shape)"
   ]
  }
 ],
 "metadata": {
  "kernelspec": {
   "display_name": "Python 3 (ipykernel)",
   "language": "python",
   "name": "python3"
  },
  "language_info": {
   "codemirror_mode": {
    "name": "ipython",
    "version": 3
   },
   "file_extension": ".py",
   "mimetype": "text/x-python",
   "name": "python",
   "nbconvert_exporter": "python",
   "pygments_lexer": "ipython3",
   "version": "3.12.9"
  }
 },
 "nbformat": 4,
 "nbformat_minor": 5
}
